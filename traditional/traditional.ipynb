{
 "metadata": {
  "language_info": {
   "codemirror_mode": {
    "name": "ipython",
    "version": 3
   },
   "file_extension": ".py",
   "mimetype": "text/x-python",
   "name": "python",
   "nbconvert_exporter": "python",
   "pygments_lexer": "ipython3",
   "version": "3.7.8"
  },
  "orig_nbformat": 2,
  "kernelspec": {
   "name": "python378jvsc74a57bd022800efcd4c49881911a0b2d8a79797207328a6a642f3a84c2d705a7929860d9",
   "display_name": "Python 3.7.8 64-bit"
  },
  "metadata": {
   "interpreter": {
    "hash": "22800efcd4c49881911a0b2d8a79797207328a6a642f3a84c2d705a7929860d9"
   }
  }
 },
 "nbformat": 4,
 "nbformat_minor": 2,
 "cells": [
  {
   "source": [
    "import numpy as np \n",
    "import pandas as pd \n",
    "import matplotlib.pyplot as plt\n",
    "from typing import List\n",
    "from itertools import permutations\n",
    "data = pd.read_excel(\"../data/1.xlsx\")"
   ],
   "cell_type": "code",
   "metadata": {},
   "execution_count": null,
   "outputs": []
  },
  {
   "source": [
    "# 问题背景\n",
    "\n",
    "- 一名员工加入后工作 3 至 15 天\n",
    "\n",
    "- 每个车间人数为 5 至 15 人不等\n",
    "\n",
    "某车间的员工集合随着时间的变化动态改变\n",
    "\n",
    "| 员工数量 |        运输专班安排        |\n",
    "| :------: | :------------------------: |\n",
    "|   5-7    |           班次A            |\n",
    "|   8-10   |        班次A、班次B        |\n",
    "|  11-12   |    班次A、班次B、班次C     |\n",
    "|  13-15   | 班次A、班次B、班次C、班次D |"
   ],
   "cell_type": "markdown",
   "metadata": {}
  },
  {
   "source": [
    "# 硬约束条件（必须满足）\n",
    "\n",
    "- 每个专班需安排两名员工,其中至少一名需具有驾驶资格。\n",
    "\n",
    "- 每名员工每天至多安排一次专班。\n",
    "\n",
    "# 公平性条件（尽可能满足）\n",
    "\n",
    "- 使每位员工当前累计安排专班次数与当前工作天数之比（定义为公平指数）和所有员工公平指数的平均值的差值不超过0.1 \n",
    "\n",
    "- 具体实现上体现为优先选择公平指数低的员工进行工作\n",
    "\n",
    "# 软约束条件（在满足公平的前提下尽可能满足）\n",
    "\n",
    "- 每个班次至少有一名已有专班经验的员工。（权重0.3）\n",
    "\n",
    "- 每名员工在不同天内参与的专班在具体班次上应尽可能平均。（权重0.2）\n",
    "\n",
    "- 历史事故次数较高的员工参与专班时须与历史事故次数较低的员工组成专班。历史事故次数为 0 或 1 的可认为历史事故次数较低,历史事故次数大于 3 的可认为历史事故次数较高。（权重0.1）\n",
    " "
   ],
   "cell_type": "markdown",
   "metadata": {}
  },
  {
   "source": [
    "# 单天模型\n",
    "## 输入\n",
    "\n",
    "一个当前车间员工的集合，以 list 形式存储。\n",
    "\n",
    "每一名员工拥有以下属性：\n",
    "\n",
    "1. 员工编号\n",
    "\n",
    "2. 总工作天数\n",
    "\n",
    "3. 已工作天数（排版当天不计入已工作天数，尚未入职用+n表示之后n天入职）\n",
    "\n",
    "4. 是否有驾驶资格\n",
    "\n",
    "5. 历史事故次数\n",
    "\n",
    "6. 安排A班次数\n",
    "\n",
    "7. 安排B班次数\n",
    "\n",
    "8. 安排C班次数\n",
    "\n",
    "9. 安排D班次数\n",
    "\n",
    "10. 公平指数（见上文定义）"
   ],
   "cell_type": "markdown",
   "metadata": {}
  },
  {
   "cell_type": "code",
   "execution_count": null,
   "metadata": {},
   "outputs": [],
   "source": [
    "class member:\n",
    "    def __init__(self, \n",
    "                mid, total_day, past_day, driver, accident_times, \n",
    "                A_times, B_times, C_times, D_times):\n",
    "        self.mid = mid\n",
    "        self.total_day = total_day\n",
    "        self.past_day = past_day\n",
    "        self.driver = driver\n",
    "        self.accident_times = accident_times\n",
    "        self.A_times = A_times\n",
    "        self.B_times = B_times\n",
    "        self.C_times = C_times\n",
    "        self.D_times = D_times\n",
    "        self.fair_ratio = 0\n",
    "        self.exprience = (A_times or B_times or C_times or D_times)\n",
    "    \n",
    "    # calculate fair_ratio\n",
    "    def cal_fair_ratio(self):\n",
    "        self.fair_ratio = (self.A_times + self.B_times + self.C_times + self.D_times) / self.past_day\n",
    "        if(self.past_day < 0):\n",
    "            self.fair_ratio += 2\n",
    "    # override < operator to sort \n",
    "    def __lt__(self, other):\n",
    "        return self.fair_ratio < other.fair_ratio     "
   ]
  },
  {
   "source": [
    "## 输出\n",
    "一个排版情况，以 dictionary 形式存储，key为每个员工的编号，value 为员工排班的班次，班次为 0 表示未排班"
   ],
   "cell_type": "markdown",
   "metadata": {}
  },
  {
   "source": [
    "# example : {1: 'A', 2: 'B', 3:0, 4:'A', 5:'B', 6:0...}"
   ],
   "cell_type": "code",
   "metadata": {},
   "execution_count": null,
   "outputs": []
  },
  {
   "source": [
    "## 算法描述\n",
    "### 初始化数据\n",
    "从给定的 excel 表格中读入， 初始化成员类并放入list作为算法的输入"
   ],
   "cell_type": "markdown",
   "metadata": {}
  },
  {
   "cell_type": "code",
   "execution_count": null,
   "metadata": {},
   "outputs": [],
   "source": [
    "member_list = []\n",
    "\n",
    "for i in range(data.shape[0]):\n",
    "    new_member = member(\n",
    "        data.loc[:,\"编号\"][i], \n",
    "        data.loc[:,\"工作天数\"][i],\n",
    "        data.loc[:,\"已工作天数\"][i],\n",
    "        data.loc[:,\"驾驶资格\"][i],\n",
    "        data.loc[:,\"历史事故\"][i],\n",
    "        data.loc[:,\"已安排A\"][i],\n",
    "        data.loc[:,\"已安排B\"][i],\n",
    "        data.loc[:,\"已安排C\"][i],\n",
    "        data.loc[:,\"已安排D\"][i]\n",
    "    )\n",
    "    new_member.cal_fair_ratio()\n",
    "    member_list.append(new_member)\n"
   ]
  },
  {
   "source": [
    "## 选择备选员工\n",
    "将员工列表按照公平指数从小到大排序，并且将尚未入职的员工排在最后。\n",
    "计算当前需要的专班数量 n，并根据专班数量，选取不少于 n 名驾驶员，共计选取不少于 2n 名员工进入备选区。\n",
    "为保证公平，优先选取公平指数小的员工。\n",
    "如果在选取 n 名驾驶员和 2n 名员工的条件达到后，剩余未被选择的员工中公平指数与备选区中公平指数最大的员工相差小于等于 0.1 的部分也进入备选区\n",
    "反之则只选取 n 名驾驶员和 2n 名员工的条件达到时进入备选区的员工"
   ],
   "cell_type": "markdown",
   "metadata": {}
  },
  {
   "cell_type": "code",
   "execution_count": null,
   "metadata": {},
   "outputs": [],
   "source": [
    "member_list = sorted(member_list)\n",
    "\n",
    "# caculate amount of member who is in the company already\n",
    "active_member_num = len([each.past_day for each in member_list if each.past_day >= 0])\n",
    "\n",
    "def calculate_work_num(x):\n",
    "    if(x <= 7 ):\n",
    "        return 1\n",
    "    elif(x <= 10):\n",
    "        return 2\n",
    "    elif(x<= 12):\n",
    "        return 3\n",
    "    elif(x <= 15):\n",
    "        return 4\n",
    "# caculate the amount of work \n",
    "work_num = calculate_work_num(active_member_num)\n",
    "\n",
    "alternative_list = []\n",
    "\n",
    "def get_alternative(arr, total_num):\n",
    "    cur_driver = 0\n",
    "    cur_total = 0\n",
    "    max_fair_ratio = 0.0\n",
    "    res_list = []\n",
    "    for each in arr:\n",
    "        if(each.driver):\n",
    "            cur_driver += 1\n",
    "        cur_total += 1\n",
    "        res_list.append(each)\n",
    "        if(cur_driver >= total_num and cur_total >= 2*total_num):\n",
    "            max_fair_ratio = each.fair_ratio\n",
    "            break\n",
    "    # get all alternative which meet the hard condition\n",
    "        \n",
    "    if(cur_driver < total_num or cur_total < 2*total_num):\n",
    "        return []\n",
    "    # cannot satisfy the hard condition\n",
    "\n",
    "    for each in arr:\n",
    "        if(each not in res_list):\n",
    "            if(each.fair_ratio <= max_fair_ratio + 0.1):\n",
    "                res_list.append(each)\n",
    "    return res_list\n",
    "\n",
    "alternative_list = get_alternative(member_list, work_num)"
   ]
  },
  {
   "source": [
    "## 最优解选择策略\n",
    "对于备选区内的员工枚举可行解。\n",
    "\n",
    "枚举可行解时，实际上是从所有员工中选择一个 2*班次 的排列，排列中，前两位员工为A班次，第三位和第四位员工为B班次，以此类推。\n",
    "\n",
    "对于每一种可行解，按照是否满足每个软条件进行判断并求加权和。\n",
    "三个软条件的权重分别是 0.3 0.2 0.1\n",
    "最后将软条件加权和最大的可行解作为最优解"
   ],
   "cell_type": "markdown",
   "metadata": {}
  },
  {
   "cell_type": "code",
   "execution_count": null,
   "metadata": {},
   "outputs": [],
   "source": [
    "# arr is a possible_solution a total_num is work number\n",
    "def cal_optimize_ratio(arr:List[member], total_num:int):\n",
    "    opt_ratio = 0.3\n",
    "    # soft condition 1\n",
    "    for i in range(total_num):\n",
    "        if(not arr[i*2].exprience and not arr[i*2+1].exprience):\n",
    "            opt_ratio -= 0.3\n",
    "            break\n",
    "    \n",
    "    # soft condition 3\n",
    "    opt_ratio += 0.1\n",
    "    for i in range(total_num):\n",
    "        if(max(arr[i*2].accident_times, arr[i*2+1].accident_times) > 3):\n",
    "            if(min(arr[i*2].accident_times, arr[i*2+1].accident_times) > 1 ):\n",
    "                opt_ratio -= 0.1\n",
    "                break\n",
    "    \n",
    "    # soft condition 2\n",
    "    def cal_member_work_avg(mem:member, type:int):\n",
    "        A_times = mem.A_times + (type == 1)\n",
    "        B_times = mem.B_times + (type == 1)\n",
    "        C_times = mem.C_times + (type == 1)\n",
    "        D_times = mem.D_times + (type == 1)\n",
    "\n",
    "        _tmp_list = []\n",
    "        _tmp_list.append(A_times)\n",
    "        if(B_times):\n",
    "            _tmp_list.append(B_times)\n",
    "        if(C_times):\n",
    "            _tmp_list.append(C_times)\n",
    "        if(C_times):\n",
    "            _tmp_list.append(C_times)\n",
    "\n",
    "        return np.std(_tmp_list)\n",
    "\n",
    "    _condition2_list = []\n",
    "    for i in range(total_num):\n",
    "        _condition2_list.append(cal_member_work_avg(arr[i], i))\n",
    "    opt_ratio += np.mean(_condition2_list)\n",
    "    print(opt_ratio)\n",
    "    return opt_ratio\n",
    "\n",
    "\n",
    "ans = []\n",
    "max_ratio = 0.0\n",
    "\n",
    "for possible_solution in list(permutations(alternative_list, work_num * 2)):\n",
    "    validator = True\n",
    "    for i in range(work_num):\n",
    "        if((not alternative_list[i*2].driver)and (not alternative_list[i*2+1].driver)):\n",
    "            validator = False\n",
    "            break\n",
    "    if(not validator):\n",
    "        continue\n",
    "    \n",
    "    _tmp_ratio = cal_optimize_ratio(possible_solution, work_num)\n",
    "    if(_tmp_ratio > max_ratio):\n",
    "        max_ratio = _tmp_ratio\n",
    "        ans = possible_solution"
   ]
  },
  {
   "source": [
    "# 公平性定义\n",
    "对于不同的公平性定义，仅需修改 member 类的 `cal_fair_ratio`即可"
   ],
   "cell_type": "markdown",
   "metadata": {}
  },
  {
   "cell_type": "code",
   "execution_count": null,
   "metadata": {},
   "outputs": [],
   "source": [
    "# 人力资源选择\n",
    "对于给定的候选者，加入初始员工队列，如果加入后的最优解发生改变，则该员工更有价值"
   ]
  }
 ]
}