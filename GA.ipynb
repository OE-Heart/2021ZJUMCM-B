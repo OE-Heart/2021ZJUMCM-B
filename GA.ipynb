{
 "metadata": {
  "language_info": {
   "codemirror_mode": {
    "name": "ipython",
    "version": 3
   },
   "file_extension": ".py",
   "mimetype": "text/x-python",
   "name": "python",
   "nbconvert_exporter": "python",
   "pygments_lexer": "ipython3",
   "version": "3.8.5"
  },
  "orig_nbformat": 2,
  "kernelspec": {
   "name": "python385jvsc74a57bd0dca0ade3e726a953b501b15e8e990130d2b7799f14cfd9f4271676035ebe5511",
   "display_name": "Python 3.8.5 64-bit ('base': conda)"
  }
 },
 "nbformat": 4,
 "nbformat_minor": 2,
 "cells": [
  {
   "cell_type": "code",
   "execution_count": 1,
   "metadata": {},
   "outputs": [],
   "source": [
    "import numpy as np \n",
    "import pandas as pd \n",
    "import seaborn as sns\n",
    "import matplotlib.pyplot as plt\n",
    "data = pd.read_excel(\"ini.xlsx\")"
   ]
  },
  {
   "source": [
    "# 背景\n",
    "\n",
    "- 一名员工加入后工作 3 至 15 天\n",
    "\n",
    "- 每个车间人数为 5 至 15 人不等,并随员工的流动而不断变化\n",
    "\n",
    "| 员工数量 |        运输专班安排        |\n",
    "| :------: | :------------------------: |\n",
    "|   5-7    |           班次A            |\n",
    "|   8-10   |        班次A、班次B        |\n",
    "|  11-12   |    班次A、班次B、班次C     |\n",
    "|  13-15   | 班次A、班次B、班次C、班次D |"
   ],
   "cell_type": "markdown",
   "metadata": {}
  },
  {
   "source": [
    "# 硬约束条件（必须满足）\n",
    "\n",
    "- 每个专班需安排两名员工,其中至少一名需具有驾驶资格。\n",
    "\n",
    "- 每名员工每天至多安排一次专班。\n",
    "\n",
    "# 软约束条件（尽可能满足）\n",
    "\n",
    "- 使每位员工当前累计安排专班次数与当前工作天数之比和所有员工当前总累计安排专班次数与当前总工作天数之比的差值不超过0.1\n",
    "\n",
    "- 每个班次至少有一名已有专班经验的员工。\n",
    "\n",
    "- 每名员工在不同天内参与的专班在具体班次上应尽可能平均。\n",
    "\n",
    "- 历史事故次数较高的员工参与专班时须与历史事故次数较低的员工组成专班。历史事故次数为 0 或 1 的可认为历史事故次数较低,历史事故次数大于 3 的可认为历史事故次数较高。\n",
    " "
   ],
   "cell_type": "markdown",
   "metadata": {}
  },
  {
   "source": [
    "# 数学模型\n",
    "\n",
    "有驾驶经验的员工集合用 $D$ 表示，没有驾驶经验的员工集合用 $S$ 表示，班次集合用 $K$ 表示。那么，可以用 $x_{dk}$ 表示第 $d$ 名有驾驶经验的员工在班次 $k$ 的排班安排,用 $y_{sk}$ 表示第 $s$ 名没有驾驶经验的员工在班次 $k$ 的排班安排。\n",
    "\n",
    "- $1\\leq\\sum_{d\\in D}x_{dk}\\leq 2, \\forall k\\in K$\n",
    "\n",
    "- $\\sum_{d\\in D}x_{dk}+\\sum_{s\\in S}y_{sk}=2, \\forall k\\in K$\n",
    "\n",
    "- $\\sum_{k\\in K}x_{dk}\\leq1,\\forall d\\in D$\n",
    "\n",
    "- $\\sum_{k\\in K}y_{sk}\\leq1,\\forall s\\in S$\n",
    "\n",
    "对于软约束条件,$p_1,p_2,p_3,p_4$ 表示相应的惩罚权重值，$s_1,s_2,s_3,s_4$ 表示所得解对软约束条件的违反次数。"
   ],
   "cell_type": "markdown",
   "metadata": {}
  },
  {
   "cell_type": "code",
   "execution_count": 2,
   "metadata": {},
   "outputs": [],
   "source": [
    "NumOfPeople = data.shape[0]\n",
    "if NumOfPeople >= 5 and NumOfPeople <= 7:\n",
    "    NumOfClasses = 1\n",
    "elif NumOfPeople >= 8 and NumOfPeople <= 10:\n",
    "    NumOfClasses = 2\n",
    "elif NumOfPeople >= 11 and NumOfPeople <= 12:\n",
    "    NumOfClasses = 3\n",
    "elif NumOfPeople >= 13 and NumOfPeople <= 15:\n",
    "    NumOfClasses = 4"
   ]
  },
  {
   "cell_type": "code",
   "execution_count": 3,
   "metadata": {},
   "outputs": [],
   "source": [
    "totalWorkDays = 0\n",
    "totalWorkClasses = 0\n",
    "for i in range(data.shape[0]):\n",
    "    totalWorkDays += data.loc[:,\"已工作天数\"][i]\n",
    "    totalWorkClasses += data.loc[:,\"已安排A\"][i]\n",
    "    totalWorkClasses += data.loc[:,\"已安排B\"][i]\n",
    "    totalWorkClasses += data.loc[:,\"已安排C\"][i]\n",
    "    totalWorkClasses += data.loc[:,\"已安排D\"][i]\n",
    "ratio = totalWorkClasses/totalWorkDays"
   ]
  }
 ]
}