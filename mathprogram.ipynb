{
 "metadata": {
  "language_info": {
   "codemirror_mode": {
    "name": "ipython",
    "version": 3
   },
   "file_extension": ".py",
   "mimetype": "text/x-python",
   "name": "python",
   "nbconvert_exporter": "python",
   "pygments_lexer": "ipython3",
   "version": "3.8.5"
  },
  "orig_nbformat": 2,
  "kernelspec": {
   "name": "python385jvsc74a57bd0dca0ade3e726a953b501b15e8e990130d2b7799f14cfd9f4271676035ebe5511",
   "display_name": "Python 3.8.5 64-bit ('base': conda)"
  }
 },
 "nbformat": 4,
 "nbformat_minor": 2,
 "cells": [
  {
   "cell_type": "code",
   "execution_count": null,
   "metadata": {},
   "outputs": [],
   "source": [
    "import pandas as pd\n",
    "import cvxpy as cp\n",
    "import numpy as np\n",
    "import matplotlib.pyplot as plt"
   ]
  },
  {
   "cell_type": "code",
   "execution_count": null,
   "metadata": {},
   "outputs": [],
   "source": [
    "df = pd.read_excel('./data/1.xlsx')\n",
    "df "
   ]
  },
  {
   "cell_type": "code",
   "execution_count": null,
   "metadata": {},
   "outputs": [],
   "source": [
    "# 整数规划\n",
    "n = df.shape[0]\n",
    "xij = cp.Variable((n,4), integer = True)\n",
    "tj = cp.Variable(4, integer=True)\n",
    "WorkFrac = cp.Variable(n)\n",
    "\n",
    "TotalWorkDays = df.iloc[:, 1].values\n",
    "WorkDays = df.iloc[:, 2].values + 1\n",
    "car = df.iloc[:,3].values\n",
    "cars = np.repeat(car.reshape(-1,1), 4, axis=1)\n",
    "Exps = df.iloc[:, 5:9].values\n",
    "Accident = df.iloc[:,4].values\n",
    "HighAccident = np.zeros(n)\n",
    "LowAccident = np.zeros(n)\n",
    "HighAccident[Accident >= 3] = 1\n",
    "LowAccident[Accident <= 1] = 1\n",
    "HighAccident = HighAccident.reshape(1,-1)\n",
    "LowAccident = LowAccident.reshape(1,-1)\n",
    "# print(HighAccident, LowAccident, sep='\\n')\n",
    "# print( cp.matmul(HighAccident, xij) - cp.matmul(LowAccident, xij))\n",
    "\n",
    "\n",
    "AcciNote = cp.Variable(4, integer = True)\n",
    "# Create Two Constraints\n",
    "constrains = []\n",
    "# 0-1变量约束 目标3 事故率尽可能对冲\n",
    "constrains.append( AcciNote >= 0)\n",
    "# constrains.append( AcciNote <= 1)\n",
    "constrains.append( cp.matmul(HighAccident, xij) - cp.matmul(LowAccident, xij) <= cp.reshape(AcciNote, (1,4)) )\n",
    "# AcciNote 在 >= 0中可以尽量的小 当且仅当能足够对冲的时候才能取到0，只要我们最小化AcciNote就能确保AcciNote倾向于0\n",
    " \n",
    "constrains.append( xij >= np.ones((n,4)) * 0 )\n",
    "constrains.append( xij <= np.ones((n,4)) )\n",
    "\n",
    "constrains.append( cp.sum(xij, axis=0) >= np.ones(4) * 2 ) # 条件1\n",
    "constrains.append( cp.sum(cp.multiply(xij, cars), axis=0) >= np.ones(4) ) # 条件2\n",
    "constrains.append( cp.sum(xij, axis=1) <= np.ones(n) ) # 条件3\n",
    "\n",
    "constrains.append( tj >= np.ones(4) * 0 ) # 松弛0-1变量tj\n",
    "constrains.append( tj <= np.ones(4) )\n",
    "constrains.append( cp.sum(cp.multiply(xij, Exps), axis=0) >= tj ) # 目标1\n",
    "\n",
    "\n",
    "ei_bar = cp.sum( (Exps + xij) / 4, axis=1) # 目标2\n",
    "# cp.sum([cp.sum((xij[:,i] - ei_bar)**2) for i in range(4)]) \n",
    "\n",
    "# cp.sum(AcciNote) # 目标3\n",
    "# WorkLoad = (1+ WorkDays + cp.sum(xij, axis=1)) / (1 + TotalWorkDays + cp.sum(xij, axis=1)) \n",
    "# constrains.append( (WorkDays + cp.sum(xij, axis=1)) == WorkFrac )  \n",
    "constrains.append( WorkDays + cp.sum(xij, axis=1) == cp.multiply(WorkFrac, TotalWorkDays )  )\n",
    "# cp.sum( (WorkLoad - cp.sum(WorkLoad) / n)**2 )\n",
    "WorkFracMean = cp.sum(WorkFrac) / n\n",
    "\n",
    "# object\n",
    "# obj = cp.Minimize( -cp.sum(tj) + cp.sum(AcciNote) )\n",
    "# obj = cp.Minimize( -cp.sum(tj) * 10 + cp.sum([cp.sum((xij[:,i] - ei_bar)**2) for i in range(4)]) + 10 * cp.sum(AcciNote)  )\n",
    "# obj = cp.Minimize( -cp.sum(tj) * 10 + cp.sum([cp.sum((xij[:,i] - ei_bar)**2) for i in range(4)]) + 10 * cp.sum(AcciNote) + cp.sum(WorkFrac) )\n",
    "obj = cp.Minimize( -cp.sum(tj) * 10 + cp.sum([cp.sum((xij[:,i] - ei_bar)**2) for i in range(4)]) + 10 * cp.sum(AcciNote) + 100 * cp.sum( (WorkFrac - cp.sum(WorkFrac)/n)**2 ) )\n"
   ]
  },
  {
   "cell_type": "code",
   "execution_count": null,
   "metadata": {},
   "outputs": [],
   "source": [
    "# solve\n",
    "prob = cp.Problem(obj, constrains)\n",
    "prob.solve(solver=cp.CPLEX)\n",
    "\n",
    "\n",
    "# print\n",
    "xijres = np.zeros((n,4))\n",
    "xijres[np.abs(xij.value - 1) < 1e-5] = 1\n",
    "print('Opt Target =', prob.value)\n",
    "print('xij res =')\n",
    "# print(xij.value)\n",
    "print(xijres)\n",
    "print('Targ1 : tj =', tj.value, ' —— 1为满足了')\n",
    "print('Targ2 : ', np.sum([np.sum((xij[:,i].value - ei_bar.value)**2) for i in range(4)]))\n",
    "print('Targ3 : AcciNote = ', AcciNote.value)\n",
    "print('Targ4 : ', np.sum( (WorkFrac.value - np.sum(WorkFrac.value) / n ) ** 2))"
   ]
  },
  {
   "cell_type": "code",
   "execution_count": null,
   "metadata": {},
   "outputs": [],
   "source": []
  }
 ]
}